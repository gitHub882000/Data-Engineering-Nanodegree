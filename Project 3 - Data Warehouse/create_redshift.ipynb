{
 "cells": [
  {
   "cell_type": "code",
   "execution_count": 1,
   "metadata": {
    "editable": true
   },
   "outputs": [],
   "source": [
    "import pandas as pd\n",
    "import boto3\n",
    "import json\n",
    "import configparser"
   ]
  },
  {
   "cell_type": "markdown",
   "metadata": {
    "editable": true
   },
   "source": [
    "# Load DWH params from a file"
   ]
  },
  {
   "cell_type": "code",
   "execution_count": 2,
   "metadata": {
    "editable": true
   },
   "outputs": [],
   "source": [
    "config = configparser.ConfigParser()\n",
    "config.read_file(open('dwh.cfg'))\n",
    "\n",
    "# IAM_USER\n",
    "KEY = config.get('IAM_USER', 'KEY')\n",
    "SECRET = config.get('IAM_USER', 'SECRET')\n",
    "\n",
    "# CLUSTER\n",
    "CLUSTER_ID = config.get('CLUSTER', 'CLUSTER_ID')\n",
    "CLUSTER_TYPE = config.get('CLUSTER','CLUSTER_TYPE')\n",
    "NUM_NODES = int(config.get('CLUSTER','NUM_NODES'))\n",
    "NODE_TYPE = config.get('CLUSTER','NODE_TYPE')\n",
    "\n",
    "DB_NAME = config.get('DATABASE','DB_NAME')\n",
    "DB_USERNAME = config.get('DATABASE','DB_USERNAME')\n",
    "DB_PASSWORD = config.get('DATABASE','DB_PASSWORD')\n",
    "DB_PORT = int(config.get('DATABASE','DB_PORT'))\n",
    "\n",
    "# IAM_ROLE\n",
    "IAM_ROLE_NAME = config.get('IAM_ROLE', 'IAM_ROLE_NAME')"
   ]
  },
  {
   "cell_type": "markdown",
   "metadata": {
    "editable": true
   },
   "source": [
    "# Create clients for IAM, EC2 and Redshift"
   ]
  },
  {
   "cell_type": "code",
   "execution_count": 3,
   "metadata": {
    "editable": true
   },
   "outputs": [],
   "source": [
    "ec2 = boto3.resource('ec2',\n",
    "                     region_name='us-west-2',\n",
    "                     aws_access_key_id=KEY,\n",
    "                     aws_secret_access_key=SECRET)\n",
    "\n",
    "iam = boto3.client('iam',\n",
    "                   region_name='us-west-2',\n",
    "                   aws_access_key_id=KEY,\n",
    "                   aws_secret_access_key=SECRET)\n",
    "\n",
    "redshift = boto3.client('redshift',\n",
    "                        region_name='us-west-2',\n",
    "                        aws_access_key_id=KEY,\n",
    "                        aws_secret_access_key=SECRET)"
   ]
  },
  {
   "cell_type": "markdown",
   "metadata": {
    "editable": true
   },
   "source": [
    "# 1. IAM role"
   ]
  },
  {
   "cell_type": "markdown",
   "metadata": {
    "editable": true
   },
   "source": [
    "In this section, I create an IAM role that enables Redshift cluster to read data from S3 bucket."
   ]
  },
  {
   "cell_type": "markdown",
   "metadata": {
    "editable": true
   },
   "source": [
    "## 1.1. Create a new IAM role"
   ]
  },
  {
   "cell_type": "code",
   "execution_count": 4,
   "metadata": {
    "editable": true
   },
   "outputs": [
    {
     "name": "stdout",
     "output_type": "stream",
     "text": [
      "Creating a new IAM role...\n"
     ]
    }
   ],
   "source": [
    "try:\n",
    "    print('Creating a new IAM role...')\n",
    "    assume_role_policy_doc = json.dumps({'Statement': [{'Action': 'sts:AssumeRole',\n",
    "                                                        'Effect': 'Allow',\n",
    "                                                        'Principal': {'Service': 'redshift.amazonaws.com'}}],\n",
    "                                         'Version': '2012-10-17'})\n",
    "    iam.create_role(Path='/',\n",
    "                    RoleName=IAM_ROLE_NAME,\n",
    "                    Description='Allows Redshift clusters to call AWS services on your behalf.',\n",
    "                    AssumeRolePolicyDocument=assume_role_policy_doc)\n",
    "except Exception as e:\n",
    "    print(e)"
   ]
  },
  {
   "cell_type": "markdown",
   "metadata": {
    "editable": true
   },
   "source": [
    "## 1.2. Attach Policy to the IAM Role"
   ]
  },
  {
   "cell_type": "code",
   "execution_count": 5,
   "metadata": {
    "editable": true
   },
   "outputs": [
    {
     "name": "stdout",
     "output_type": "stream",
     "text": [
      "Attaching Policy...\n",
      "{'ResponseMetadata': {'RequestId': '6e4cd246-554a-47b3-b319-a963e36b87c0', 'HTTPStatusCode': 200, 'HTTPHeaders': {'x-amzn-requestid': '6e4cd246-554a-47b3-b319-a963e36b87c0', 'content-type': 'text/xml', 'content-length': '212', 'date': 'Sat, 26 Mar 2022 06:16:12 GMT'}, 'RetryAttempts': 0}}\n"
     ]
    }
   ],
   "source": [
    "try:\n",
    "    print('Attaching Policy...')\n",
    "    response = iam.attach_role_policy(RoleName=IAM_ROLE_NAME,\n",
    "                                      PolicyArn='arn:aws:iam::aws:policy/AmazonS3ReadOnlyAccess')\n",
    "    print(response)\n",
    "except Exception as e:\n",
    "    print(e)"
   ]
  },
  {
   "cell_type": "markdown",
   "metadata": {
    "editable": true
   },
   "source": [
    "## 1.3. Get and save the IAM Role\\'s ARN"
   ]
  },
  {
   "cell_type": "code",
   "execution_count": 6,
   "metadata": {
    "editable": true
   },
   "outputs": [
    {
     "name": "stdout",
     "output_type": "stream",
     "text": [
      "Getting the IAM role's ARN...\n",
      "arn:aws:iam::911990516410:role/dwhrole\n"
     ]
    }
   ],
   "source": [
    "try:\n",
    "    print('Getting the IAM role\\'s ARN...')\n",
    "    IAM_ROLE_ARN = iam.get_role(RoleName=IAM_ROLE_NAME)['Role']['Arn']\n",
    "    \n",
    "    # Write IAM Role's ARN back to config file\n",
    "    config.set('IAM_ROLE', 'IAM_ROLE_ARN', IAM_ROLE_ARN)\n",
    "    with open('dwh.cfg', 'w') as config_file:\n",
    "        config.write(config_file)\n",
    "    \n",
    "    print(IAM_ROLE_ARN)\n",
    "except Exception as e:\n",
    "    print(e)"
   ]
  },
  {
   "cell_type": "markdown",
   "metadata": {
    "editable": true
   },
   "source": [
    "# 2. Redshift cluster"
   ]
  },
  {
   "cell_type": "markdown",
   "metadata": {
    "editable": true
   },
   "source": [
    "## 2.1. Create a new Redshift cluster"
   ]
  },
  {
   "cell_type": "code",
   "execution_count": 7,
   "metadata": {
    "editable": true
   },
   "outputs": [
    {
     "name": "stdout",
     "output_type": "stream",
     "text": [
      "{'Cluster': {'ClusterIdentifier': 'dwhcluster', 'NodeType': 'dc2.large', 'ClusterStatus': 'creating', 'MasterUsername': 'dwhuser', 'DBName': 'dwhdb', 'AutomatedSnapshotRetentionPeriod': 1, 'ClusterSecurityGroups': [], 'VpcSecurityGroups': [{'VpcSecurityGroupId': 'sg-012531206da2fd1e5', 'Status': 'active'}], 'ClusterParameterGroups': [{'ParameterGroupName': 'default.redshift-1.0', 'ParameterApplyStatus': 'in-sync'}], 'ClusterSubnetGroupName': 'default', 'VpcId': 'vpc-07d3120729cd38b09', 'PreferredMaintenanceWindow': 'fri:08:00-fri:08:30', 'PendingModifiedValues': {'MasterUserPassword': '****'}, 'ClusterVersion': '1.0', 'AllowVersionUpgrade': True, 'NumberOfNodes': 4, 'PubliclyAccessible': True, 'Encrypted': False, 'Tags': [], 'EnhancedVpcRouting': False, 'IamRoles': [{'IamRoleArn': 'arn:aws:iam::911990516410:role/dwhrole', 'ApplyStatus': 'adding'}], 'MaintenanceTrackName': 'current'}, 'ResponseMetadata': {'RequestId': '5370d46a-8367-4af5-b481-32bc64ab2eee', 'HTTPStatusCode': 200, 'HTTPHeaders': {'x-amzn-requestid': '5370d46a-8367-4af5-b481-32bc64ab2eee', 'content-type': 'text/xml', 'content-length': '2438', 'vary': 'accept-encoding', 'date': 'Sat, 26 Mar 2022 06:16:13 GMT'}, 'RetryAttempts': 0}}\n"
     ]
    }
   ],
   "source": [
    "try:\n",
    "    response = redshift.create_cluster(        \n",
    "        # Resource information\n",
    "        ClusterType=CLUSTER_TYPE,\n",
    "        NodeType=NODE_TYPE,\n",
    "        NumberOfNodes=NUM_NODES,\n",
    "\n",
    "        # Identifiers & Credentials\n",
    "        DBName=DB_NAME,\n",
    "        ClusterIdentifier=CLUSTER_ID,\n",
    "        MasterUsername=DB_USERNAME,\n",
    "        MasterUserPassword=DB_PASSWORD,\n",
    "        \n",
    "        # IAM Roles (for S3 access)\n",
    "        IamRoles=[IAM_ROLE_ARN])\n",
    "    print(response)\n",
    "except Exception as e:\n",
    "    print(e)"
   ]
  },
  {
   "cell_type": "markdown",
   "metadata": {
    "editable": true
   },
   "source": [
    "## 2.2. Describe the cluster"
   ]
  },
  {
   "cell_type": "markdown",
   "metadata": {
    "editable": true
   },
   "source": [
    "<font color='red'>***Note***: Run the following cell mutiple times until the cluster status has become `Available`."
   ]
  },
  {
   "cell_type": "code",
   "execution_count": 13,
   "metadata": {
    "editable": true
   },
   "outputs": [
    {
     "data": {
      "text/html": [
       "<div>\n",
       "<style scoped>\n",
       "    .dataframe tbody tr th:only-of-type {\n",
       "        vertical-align: middle;\n",
       "    }\n",
       "\n",
       "    .dataframe tbody tr th {\n",
       "        vertical-align: top;\n",
       "    }\n",
       "\n",
       "    .dataframe thead th {\n",
       "        text-align: right;\n",
       "    }\n",
       "</style>\n",
       "<table border=\"1\" class=\"dataframe\">\n",
       "  <thead>\n",
       "    <tr style=\"text-align: right;\">\n",
       "      <th></th>\n",
       "      <th>Key</th>\n",
       "      <th>Value</th>\n",
       "    </tr>\n",
       "  </thead>\n",
       "  <tbody>\n",
       "    <tr>\n",
       "      <th>0</th>\n",
       "      <td>ClusterIdentifier</td>\n",
       "      <td>dwhcluster</td>\n",
       "    </tr>\n",
       "    <tr>\n",
       "      <th>1</th>\n",
       "      <td>NodeType</td>\n",
       "      <td>dc2.large</td>\n",
       "    </tr>\n",
       "    <tr>\n",
       "      <th>2</th>\n",
       "      <td>ClusterStatus</td>\n",
       "      <td>available</td>\n",
       "    </tr>\n",
       "    <tr>\n",
       "      <th>3</th>\n",
       "      <td>MasterUsername</td>\n",
       "      <td>dwhuser</td>\n",
       "    </tr>\n",
       "    <tr>\n",
       "      <th>4</th>\n",
       "      <td>DBName</td>\n",
       "      <td>dwhdb</td>\n",
       "    </tr>\n",
       "    <tr>\n",
       "      <th>5</th>\n",
       "      <td>Endpoint</td>\n",
       "      <td>{'Address': 'dwhcluster.cqg4kbulextn.us-west-2.redshift.amazonaws.com', 'Port': 5439}</td>\n",
       "    </tr>\n",
       "    <tr>\n",
       "      <th>6</th>\n",
       "      <td>VpcId</td>\n",
       "      <td>vpc-07d3120729cd38b09</td>\n",
       "    </tr>\n",
       "    <tr>\n",
       "      <th>7</th>\n",
       "      <td>NumberOfNodes</td>\n",
       "      <td>4</td>\n",
       "    </tr>\n",
       "  </tbody>\n",
       "</table>\n",
       "</div>"
      ],
      "text/plain": [
       "                 Key  \\\n",
       "0  ClusterIdentifier   \n",
       "1  NodeType            \n",
       "2  ClusterStatus       \n",
       "3  MasterUsername      \n",
       "4  DBName              \n",
       "5  Endpoint            \n",
       "6  VpcId               \n",
       "7  NumberOfNodes       \n",
       "\n",
       "                                                                                   Value  \n",
       "0  dwhcluster                                                                             \n",
       "1  dc2.large                                                                              \n",
       "2  available                                                                              \n",
       "3  dwhuser                                                                                \n",
       "4  dwhdb                                                                                  \n",
       "5  {'Address': 'dwhcluster.cqg4kbulextn.us-west-2.redshift.amazonaws.com', 'Port': 5439}  \n",
       "6  vpc-07d3120729cd38b09                                                                  \n",
       "7  4                                                                                      "
      ]
     },
     "execution_count": 13,
     "metadata": {},
     "output_type": "execute_result"
    }
   ],
   "source": [
    "def get_prop_df(props):\n",
    "    pd.set_option('display.max_colwidth', -1)\n",
    "    keys = ['ClusterIdentifier', 'NodeType', 'ClusterStatus', 'MasterUsername',\n",
    "            'DBName', 'Endpoint', 'NumberOfNodes', 'VpcId']\n",
    "    x = [(k, v) for k,v in props.items() if k in keys]\n",
    "    return pd.DataFrame(data=x, columns=['Key', 'Value'])\n",
    "\n",
    "\n",
    "try:\n",
    "    cluster_props = redshift.describe_clusters(ClusterIdentifier=CLUSTER_ID)['Clusters'][0]\n",
    "except Exception as e:\n",
    "    print(e)\n",
    "\n",
    "\n",
    "get_prop_df(cluster_props)"
   ]
  },
  {
   "cell_type": "markdown",
   "metadata": {
    "editable": true
   },
   "source": [
    "## 2.3. Get and save the cluster's endpoint"
   ]
  },
  {
   "cell_type": "markdown",
   "metadata": {
    "editable": true
   },
   "source": [
    "<font color='red'>***Note***: DO NOT run the following cell unless the cluster status has become `Available`."
   ]
  },
  {
   "cell_type": "code",
   "execution_count": 14,
   "metadata": {
    "editable": true
   },
   "outputs": [
    {
     "name": "stdout",
     "output_type": "stream",
     "text": [
      "DB_ENDPOINT ::  dwhcluster.cqg4kbulextn.us-west-2.redshift.amazonaws.com\n"
     ]
    }
   ],
   "source": [
    "DB_ENDPOINT = cluster_props['Endpoint']['Address']\n",
    "\n",
    "# Write endpoint back to config file\n",
    "config.set('DATABASE', 'DB_ENDPOINT', DB_ENDPOINT)\n",
    "with open('dwh.cfg', 'w') as config_file:\n",
    "    config.write(config_file)\n",
    "\n",
    "print('DB_ENDPOINT :: ', DB_ENDPOINT)"
   ]
  },
  {
   "cell_type": "markdown",
   "metadata": {
    "editable": true
   },
   "source": [
    "# 3. Open an inbound TCP port to access the cluster's endpoint"
   ]
  },
  {
   "cell_type": "markdown",
   "metadata": {
    "editable": true
   },
   "source": [
    "<font color='red'>***Note***: DO NOT RUN this unless the security rule is not allowed."
   ]
  },
  {
   "cell_type": "code",
   "execution_count": 15,
   "metadata": {
    "editable": true
   },
   "outputs": [
    {
     "name": "stdout",
     "output_type": "stream",
     "text": [
      "ec2.SecurityGroup(id='sg-012531206da2fd1e5')\n",
      "An error occurred (InvalidPermission.Duplicate) when calling the AuthorizeSecurityGroupIngress operation: the specified rule \"peer: 0.0.0.0/0, TCP, from port: 5439, to port: 5439, ALLOW\" already exists\n"
     ]
    }
   ],
   "source": [
    "# try:\n",
    "#     vpc = ec2.Vpc(id=cluster_props['VpcId'])\n",
    "#     default_sg = list(vpc.security_groups.all())[0]\n",
    "#     print(default_sg)\n",
    "#     default_sg.authorize_ingress(GroupName=default_sg.group_name,\n",
    "#                                  CidrIp='0.0.0.0/0',\n",
    "#                                  IpProtocol='TCP',\n",
    "#                                  FromPort=DB_PORT,\n",
    "#                                  ToPort=DB_PORT)\n",
    "# except Exception as e:\n",
    "#     print(e)"
   ]
  },
  {
   "cell_type": "markdown",
   "metadata": {
    "editable": true
   },
   "source": [
    "# 4. Clean up resources"
   ]
  },
  {
   "cell_type": "markdown",
   "metadata": {
    "editable": true
   },
   "source": [
    "## 4.1. Clean up Redshift cluster"
   ]
  },
  {
   "cell_type": "code",
   "execution_count": null,
   "metadata": {
    "editable": true
   },
   "outputs": [],
   "source": [
    "# # Uncomment & run to delete the created cluster\n",
    "# try:\n",
    "#     redshift.delete_cluster(ClusterIdentifier=CLUSTER_ID, SkipFinalClusterSnapshot=True)\n",
    "# except Exception as e:\n",
    "#     print(e)"
   ]
  },
  {
   "cell_type": "code",
   "execution_count": null,
   "metadata": {
    "editable": true
   },
   "outputs": [],
   "source": [
    "# # Check cluster status\n",
    "# def get_prop_df(props):\n",
    "#     pd.set_option('display.max_colwidth', -1)\n",
    "#     keys = ['ClusterIdentifier', 'NodeType', 'ClusterStatus', 'MasterUsername',\n",
    "#             'DBName', 'Endpoint', 'NumberOfNodes', 'VpcId']\n",
    "#     x = [(k, v) for k,v in props.items() if k in keys]\n",
    "#     return pd.DataFrame(data=x, columns=['Key', 'Value'])\n",
    "\n",
    "\n",
    "# try:\n",
    "#     cluster_props = redshift.describe_clusters(ClusterIdentifier=CLUSTER_ID)['Clusters'][0]\n",
    "#     get_prop_df(cluster_props)\n",
    "# except Exception as e:\n",
    "#     print(e)"
   ]
  },
  {
   "cell_type": "markdown",
   "metadata": {
    "editable": true
   },
   "source": [
    "## 4.2. Clean up IAM role"
   ]
  },
  {
   "cell_type": "code",
   "execution_count": null,
   "metadata": {
    "editable": true
   },
   "outputs": [],
   "source": [
    "# # Uncomment & run to delete the created IAM role\n",
    "# try:\n",
    "#     iam.detach_role_policy(RoleName=IAM_ROLE_NAME, PolicyArn='arn:aws:iam::aws:policy/AmazonS3ReadOnlyAccess')\n",
    "#     iam.delete_role(RoleName=IAM_ROLE_NAME)\n",
    "# except Exception as e:\n",
    "#     print(e)"
   ]
  }
 ],
 "metadata": {
  "kernelspec": {
   "display_name": "Python 3",
   "language": "python",
   "name": "python3"
  },
  "language_info": {
   "codemirror_mode": {
    "name": "ipython",
    "version": 3
   },
   "file_extension": ".py",
   "mimetype": "text/x-python",
   "name": "python",
   "nbconvert_exporter": "python",
   "pygments_lexer": "ipython3",
   "version": "3.6.3"
  }
 },
 "nbformat": 4,
 "nbformat_minor": 4
}
